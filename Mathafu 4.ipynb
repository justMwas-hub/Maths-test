{
 "cells": [
  {
   "cell_type": "code",
   "execution_count": 1,
   "metadata": {},
   "outputs": [],
   "source": [
    "import numpy as np \n",
    "import pandas as pd\n",
    "\n",
    "import matplotlib.pyplot as plt\n",
    "import seaborn as sns"
   ]
  },
  {
   "cell_type": "code",
   "execution_count": 2,
   "metadata": {},
   "outputs": [],
   "source": [
    "df = pd.read_csv(\"mathE_with_dummies.csv\")"
   ]
  },
  {
   "cell_type": "code",
   "execution_count": 3,
   "metadata": {},
   "outputs": [
    {
     "data": {
      "text/plain": [
       "9546"
      ]
     },
     "execution_count": 3,
     "metadata": {},
     "output_type": "execute_result"
    }
   ],
   "source": [
    "len(df)"
   ]
  },
  {
   "cell_type": "code",
   "execution_count": 4,
   "metadata": {},
   "outputs": [
    {
     "data": {
      "text/html": [
       "<div>\n",
       "<style scoped>\n",
       "    .dataframe tbody tr th:only-of-type {\n",
       "        vertical-align: middle;\n",
       "    }\n",
       "\n",
       "    .dataframe tbody tr th {\n",
       "        vertical-align: top;\n",
       "    }\n",
       "\n",
       "    .dataframe thead th {\n",
       "        text-align: right;\n",
       "    }\n",
       "</style>\n",
       "<table border=\"1\" class=\"dataframe\">\n",
       "  <thead>\n",
       "    <tr style=\"text-align: right;\">\n",
       "      <th></th>\n",
       "      <th>Student ID</th>\n",
       "      <th>Question ID</th>\n",
       "      <th>Type of Answer</th>\n",
       "      <th>Student Country_Italy</th>\n",
       "      <th>Student Country_Lithuania</th>\n",
       "      <th>Student Country_Portugal</th>\n",
       "      <th>Student Country_Romania</th>\n",
       "      <th>Student Country_Russian Federation</th>\n",
       "      <th>Student Country_Slovenia</th>\n",
       "      <th>Student Country_Spain</th>\n",
       "      <th>...</th>\n",
       "      <th>Subtopic_Linear Systems</th>\n",
       "      <th>Subtopic_Linear Transformations</th>\n",
       "      <th>Subtopic_Matrices and Determinants</th>\n",
       "      <th>Subtopic_Nonlinear Optimization</th>\n",
       "      <th>Subtopic_Numerical Methods</th>\n",
       "      <th>Subtopic_Partial Differentiation</th>\n",
       "      <th>Subtopic_Probability</th>\n",
       "      <th>Subtopic_Set Theory</th>\n",
       "      <th>Subtopic_Statistics</th>\n",
       "      <th>Subtopic_Vector Spaces</th>\n",
       "    </tr>\n",
       "  </thead>\n",
       "  <tbody>\n",
       "    <tr>\n",
       "      <th>0</th>\n",
       "      <td>647</td>\n",
       "      <td>77</td>\n",
       "      <td>0</td>\n",
       "      <td>0</td>\n",
       "      <td>0</td>\n",
       "      <td>0</td>\n",
       "      <td>0</td>\n",
       "      <td>0</td>\n",
       "      <td>0</td>\n",
       "      <td>0</td>\n",
       "      <td>...</td>\n",
       "      <td>0</td>\n",
       "      <td>0</td>\n",
       "      <td>0</td>\n",
       "      <td>0</td>\n",
       "      <td>0</td>\n",
       "      <td>0</td>\n",
       "      <td>0</td>\n",
       "      <td>0</td>\n",
       "      <td>1</td>\n",
       "      <td>0</td>\n",
       "    </tr>\n",
       "    <tr>\n",
       "      <th>1</th>\n",
       "      <td>41</td>\n",
       "      <td>77</td>\n",
       "      <td>1</td>\n",
       "      <td>0</td>\n",
       "      <td>0</td>\n",
       "      <td>1</td>\n",
       "      <td>0</td>\n",
       "      <td>0</td>\n",
       "      <td>0</td>\n",
       "      <td>0</td>\n",
       "      <td>...</td>\n",
       "      <td>0</td>\n",
       "      <td>0</td>\n",
       "      <td>0</td>\n",
       "      <td>0</td>\n",
       "      <td>0</td>\n",
       "      <td>0</td>\n",
       "      <td>0</td>\n",
       "      <td>0</td>\n",
       "      <td>1</td>\n",
       "      <td>0</td>\n",
       "    </tr>\n",
       "    <tr>\n",
       "      <th>2</th>\n",
       "      <td>340</td>\n",
       "      <td>77</td>\n",
       "      <td>1</td>\n",
       "      <td>0</td>\n",
       "      <td>0</td>\n",
       "      <td>1</td>\n",
       "      <td>0</td>\n",
       "      <td>0</td>\n",
       "      <td>0</td>\n",
       "      <td>0</td>\n",
       "      <td>...</td>\n",
       "      <td>0</td>\n",
       "      <td>0</td>\n",
       "      <td>0</td>\n",
       "      <td>0</td>\n",
       "      <td>0</td>\n",
       "      <td>0</td>\n",
       "      <td>0</td>\n",
       "      <td>0</td>\n",
       "      <td>1</td>\n",
       "      <td>0</td>\n",
       "    </tr>\n",
       "    <tr>\n",
       "      <th>3</th>\n",
       "      <td>641</td>\n",
       "      <td>77</td>\n",
       "      <td>0</td>\n",
       "      <td>1</td>\n",
       "      <td>0</td>\n",
       "      <td>0</td>\n",
       "      <td>0</td>\n",
       "      <td>0</td>\n",
       "      <td>0</td>\n",
       "      <td>0</td>\n",
       "      <td>...</td>\n",
       "      <td>0</td>\n",
       "      <td>0</td>\n",
       "      <td>0</td>\n",
       "      <td>0</td>\n",
       "      <td>0</td>\n",
       "      <td>0</td>\n",
       "      <td>0</td>\n",
       "      <td>0</td>\n",
       "      <td>1</td>\n",
       "      <td>0</td>\n",
       "    </tr>\n",
       "    <tr>\n",
       "      <th>4</th>\n",
       "      <td>669</td>\n",
       "      <td>77</td>\n",
       "      <td>1</td>\n",
       "      <td>0</td>\n",
       "      <td>0</td>\n",
       "      <td>1</td>\n",
       "      <td>0</td>\n",
       "      <td>0</td>\n",
       "      <td>0</td>\n",
       "      <td>0</td>\n",
       "      <td>...</td>\n",
       "      <td>0</td>\n",
       "      <td>0</td>\n",
       "      <td>0</td>\n",
       "      <td>0</td>\n",
       "      <td>0</td>\n",
       "      <td>0</td>\n",
       "      <td>0</td>\n",
       "      <td>0</td>\n",
       "      <td>1</td>\n",
       "      <td>0</td>\n",
       "    </tr>\n",
       "  </tbody>\n",
       "</table>\n",
       "<p>5 rows × 47 columns</p>\n",
       "</div>"
      ],
      "text/plain": [
       "   Student ID  Question ID  Type of Answer  Student Country_Italy  \\\n",
       "0         647           77               0                      0   \n",
       "1          41           77               1                      0   \n",
       "2         340           77               1                      0   \n",
       "3         641           77               0                      1   \n",
       "4         669           77               1                      0   \n",
       "\n",
       "   Student Country_Lithuania  Student Country_Portugal  \\\n",
       "0                          0                         0   \n",
       "1                          0                         1   \n",
       "2                          0                         1   \n",
       "3                          0                         0   \n",
       "4                          0                         1   \n",
       "\n",
       "   Student Country_Romania  Student Country_Russian Federation  \\\n",
       "0                        0                                   0   \n",
       "1                        0                                   0   \n",
       "2                        0                                   0   \n",
       "3                        0                                   0   \n",
       "4                        0                                   0   \n",
       "\n",
       "   Student Country_Slovenia  Student Country_Spain  ...  \\\n",
       "0                         0                      0  ...   \n",
       "1                         0                      0  ...   \n",
       "2                         0                      0  ...   \n",
       "3                         0                      0  ...   \n",
       "4                         0                      0  ...   \n",
       "\n",
       "   Subtopic_Linear Systems  Subtopic_Linear Transformations  \\\n",
       "0                        0                                0   \n",
       "1                        0                                0   \n",
       "2                        0                                0   \n",
       "3                        0                                0   \n",
       "4                        0                                0   \n",
       "\n",
       "   Subtopic_Matrices and Determinants  Subtopic_Nonlinear Optimization  \\\n",
       "0                                   0                                0   \n",
       "1                                   0                                0   \n",
       "2                                   0                                0   \n",
       "3                                   0                                0   \n",
       "4                                   0                                0   \n",
       "\n",
       "   Subtopic_Numerical Methods  Subtopic_Partial Differentiation  \\\n",
       "0                           0                                 0   \n",
       "1                           0                                 0   \n",
       "2                           0                                 0   \n",
       "3                           0                                 0   \n",
       "4                           0                                 0   \n",
       "\n",
       "   Subtopic_Probability   Subtopic_Set Theory  Subtopic_Statistics  \\\n",
       "0                      0                    0                    1   \n",
       "1                      0                    0                    1   \n",
       "2                      0                    0                    1   \n",
       "3                      0                    0                    1   \n",
       "4                      0                    0                    1   \n",
       "\n",
       "   Subtopic_Vector Spaces  \n",
       "0                       0  \n",
       "1                       0  \n",
       "2                       0  \n",
       "3                       0  \n",
       "4                       0  \n",
       "\n",
       "[5 rows x 47 columns]"
      ]
     },
     "execution_count": 4,
     "metadata": {},
     "output_type": "execute_result"
    }
   ],
   "source": [
    "df.head()"
   ]
  },
  {
   "cell_type": "code",
   "execution_count": 5,
   "metadata": {},
   "outputs": [],
   "source": [
    "df = df.drop([\"Student ID\", \"Question ID\"], axis=1)"
   ]
  },
  {
   "cell_type": "code",
   "execution_count": 6,
   "metadata": {},
   "outputs": [],
   "source": [
    "from sklearn.model_selection import train_test_split"
   ]
  },
  {
   "cell_type": "code",
   "execution_count": 7,
   "metadata": {},
   "outputs": [],
   "source": [
    "from sklearn.preprocessing import StandardScaler"
   ]
  },
  {
   "cell_type": "code",
   "execution_count": 8,
   "metadata": {},
   "outputs": [],
   "source": [
    "X = df.drop(\"Type of Answer\", axis=1)\n",
    "y = df[\"Type of Answer\"]"
   ]
  },
  {
   "cell_type": "code",
   "execution_count": 9,
   "metadata": {},
   "outputs": [],
   "source": [
    "X_train, X_test, y_train, y_test = train_test_split(X, y, test_size=0.3, random_state=101)"
   ]
  },
  {
   "cell_type": "code",
   "execution_count": 10,
   "metadata": {},
   "outputs": [],
   "source": [
    "scaler = StandardScaler()"
   ]
  },
  {
   "cell_type": "code",
   "execution_count": 11,
   "metadata": {},
   "outputs": [],
   "source": [
    "X_train = scaler.fit_transform(X_train)\n",
    "X_test = scaler.transform(X_test)"
   ]
  },
  {
   "cell_type": "code",
   "execution_count": 12,
   "metadata": {},
   "outputs": [],
   "source": [
    "def run_model(model,X_train,y_train,X_test,y_test):\n",
    "    \n",
    "    # Fit Model\n",
    "    model.fit(X_train,y_train)\n",
    "    \n",
    "    # Get Metrics\n",
    "    \n",
    "    preds = model.predict(X_test)\n",
    "    \n",
    "    print(classification_report(y_test,preds))\n",
    "    print('\\n')\n",
    "    plot_confusion_matrix(model, X_test, y_test)\n",
    "    "
   ]
  },
  {
   "cell_type": "code",
   "execution_count": 13,
   "metadata": {},
   "outputs": [],
   "source": [
    "from sklearn.linear_model import LogisticRegression"
   ]
  },
  {
   "cell_type": "code",
   "execution_count": 16,
   "metadata": {},
   "outputs": [],
   "source": [
    "from sklearn.metrics import accuracy_score, plot_confusion_matrix, classification_report"
   ]
  },
  {
   "cell_type": "code",
   "execution_count": 19,
   "metadata": {},
   "outputs": [],
   "source": [
    "model = LogisticRegression(max_iter=1000000,penalty='elasticnet',l1_ratio=0.1,C=1.0,multi_class='multinomial',solver='saga')"
   ]
  },
  {
   "cell_type": "code",
   "execution_count": 20,
   "metadata": {
    "scrolled": true
   },
   "outputs": [
    {
     "name": "stderr",
     "output_type": "stream",
     "text": [
      "C:\\Users\\Ambrose Mwas\\Anaconda3\\lib\\site-packages\\sklearn\\linear_model\\_sag.py:329: ConvergenceWarning: The max_iter was reached which means the coef_ did not converge\n",
      "  warnings.warn(\"The max_iter was reached which means \"\n"
     ]
    },
    {
     "name": "stdout",
     "output_type": "stream",
     "text": [
      "              precision    recall  f1-score   support\n",
      "\n",
      "           0       0.60      0.76      0.67      1544\n",
      "           1       0.59      0.40      0.48      1320\n",
      "\n",
      "    accuracy                           0.59      2864\n",
      "   macro avg       0.59      0.58      0.57      2864\n",
      "weighted avg       0.59      0.59      0.58      2864\n",
      "\n",
      "\n",
      "\n"
     ]
    },
    {
     "data": {
      "image/png": "[encoded data removed]",
      "text/plain": [
       "<Figure size 432x288 with 2 Axes>"
      ]
     },
     "metadata": {
      "needs_background": "light"
     },
     "output_type": "display_data"
    }
   ],
   "source": [
    "run_model(model,X_train,y_train,X_test,y_test)"
   ]
  },
  {
   "cell_type": "code",
   "execution_count": 22,
   "metadata": {},
   "outputs": [],
   "source": [
    "#model.feature_importances_"
   ]
  },
  {
   "cell_type": "code",
   "execution_count": null,
   "metadata": {},
   "outputs": [],
   "source": []
  },
  {
   "cell_type": "code",
   "execution_count": null,
   "metadata": {},
   "outputs": [],
   "source": []
  },
  {
   "cell_type": "code",
   "execution_count": 23,
   "metadata": {},
   "outputs": [],
   "source": [
    "from sklearn.svm import SVC"
   ]
  },
  {
   "cell_type": "code",
   "execution_count": 24,
   "metadata": {},
   "outputs": [],
   "source": [
    "model = SVC(C=0.5,kernel='poly',degree=2,gamma='scale',class_weight=\"balanced\")"
   ]
  },
  {
   "cell_type": "code",
   "execution_count": 25,
   "metadata": {},
   "outputs": [
    {
     "name": "stdout",
     "output_type": "stream",
     "text": [
      "              precision    recall  f1-score   support\n",
      "\n",
      "           0       0.60      0.72      0.66      1544\n",
      "           1       0.58      0.45      0.51      1320\n",
      "\n",
      "    accuracy                           0.59      2864\n",
      "   macro avg       0.59      0.58      0.58      2864\n",
      "weighted avg       0.59      0.59      0.59      2864\n",
      "\n",
      "\n",
      "\n"
     ]
    },
    {
     "data": {
      "image/png": "[encoded data removed]",
      "text/plain": [
       "<Figure size 432x288 with 2 Axes>"
      ]
     },
     "metadata": {
      "needs_background": "light"
     },
     "output_type": "display_data"
    }
   ],
   "source": [
    "run_model(model,X_train,y_train,X_test,y_test)"
   ]
  },
  {
   "cell_type": "code",
   "execution_count": 27,
   "metadata": {},
   "outputs": [],
   "source": [
    "#model.feature_importances_"
   ]
  },
  {
   "cell_type": "code",
   "execution_count": null,
   "metadata": {},
   "outputs": [],
   "source": []
  },
  {
   "cell_type": "code",
   "execution_count": null,
   "metadata": {},
   "outputs": [],
   "source": []
  },
  {
   "cell_type": "code",
   "execution_count": 28,
   "metadata": {},
   "outputs": [],
   "source": [
    "from sklearn.tree import DecisionTreeClassifier"
   ]
  },
  {
   "cell_type": "code",
   "execution_count": 29,
   "metadata": {},
   "outputs": [],
   "source": [
    "model = DecisionTreeClassifier()"
   ]
  },
  {
   "cell_type": "code",
   "execution_count": 30,
   "metadata": {},
   "outputs": [
    {
     "name": "stdout",
     "output_type": "stream",
     "text": [
      "              precision    recall  f1-score   support\n",
      "\n",
      "           0       0.61      0.73      0.66      1544\n",
      "           1       0.59      0.45      0.51      1320\n",
      "\n",
      "    accuracy                           0.60      2864\n",
      "   macro avg       0.60      0.59      0.59      2864\n",
      "weighted avg       0.60      0.60      0.59      2864\n",
      "\n",
      "\n",
      "\n"
     ]
    },
    {
     "data": {
      "image/png": "[encoded data removed]",
      "text/plain": [
       "<Figure size 432x288 with 2 Axes>"
      ]
     },
     "metadata": {
      "needs_background": "light"
     },
     "output_type": "display_data"
    }
   ],
   "source": [
    "run_model(model,X_train,y_train,X_test,y_test)"
   ]
  },
  {
   "cell_type": "code",
   "execution_count": 31,
   "metadata": {},
   "outputs": [
    {
     "data": {
      "text/plain": [
       "array([9.97232729e-02, 1.17818400e-01, 1.46036222e-01, 5.24501356e-03,\n",
       "       1.37925497e-02, 1.69654851e-01, 1.24556208e-02, 4.36074849e-02,\n",
       "       2.55503123e-04, 1.09459492e-02, 1.23459723e-03, 1.47427269e-02,\n",
       "       1.31893836e-03, 2.78294087e-07, 6.53274305e-03, 3.00332142e-04,\n",
       "       1.57734351e-02, 2.47738900e-03, 1.54088072e-02, 1.60803833e-02,\n",
       "       0.00000000e+00, 3.24080453e-02, 1.20315937e-02, 1.25424382e-02,\n",
       "       1.01414239e-02, 0.00000000e+00, 3.78013277e-03, 1.01187730e-04,\n",
       "       1.69446101e-02, 3.94840164e-02, 1.60479390e-03, 2.72787043e-03,\n",
       "       1.47611333e-03, 3.66174243e-03, 4.69889482e-02, 6.74315461e-03,\n",
       "       1.80098672e-02, 1.48017710e-03, 4.67560800e-03, 2.58841128e-02,\n",
       "       7.56936786e-03, 0.00000000e+00, 8.24916925e-03, 5.00911294e-02])"
      ]
     },
     "execution_count": 31,
     "metadata": {},
     "output_type": "execute_result"
    }
   ],
   "source": [
    "model.feature_importances_"
   ]
  },
  {
   "cell_type": "code",
   "execution_count": 32,
   "metadata": {},
   "outputs": [],
   "source": [
    "Imp_feat_DT = pd.DataFrame(index=X.columns, data=model.feature_importances_, columns=[\"Feature Importances\"])"
   ]
  },
  {
   "cell_type": "code",
   "execution_count": 33,
   "metadata": {},
   "outputs": [
    {
     "data": {
      "text/html": [
       "<div>\n",
       "<style scoped>\n",
       "    .dataframe tbody tr th:only-of-type {\n",
       "        vertical-align: middle;\n",
       "    }\n",
       "\n",
       "    .dataframe tbody tr th {\n",
       "        vertical-align: top;\n",
       "    }\n",
       "\n",
       "    .dataframe thead th {\n",
       "        text-align: right;\n",
       "    }\n",
       "</style>\n",
       "<table border=\"1\" class=\"dataframe\">\n",
       "  <thead>\n",
       "    <tr style=\"text-align: right;\">\n",
       "      <th></th>\n",
       "      <th>Feature Importances</th>\n",
       "    </tr>\n",
       "  </thead>\n",
       "  <tbody>\n",
       "    <tr>\n",
       "      <th>Student Country_Italy</th>\n",
       "      <td>9.972327e-02</td>\n",
       "    </tr>\n",
       "    <tr>\n",
       "      <th>Student Country_Lithuania</th>\n",
       "      <td>1.178184e-01</td>\n",
       "    </tr>\n",
       "    <tr>\n",
       "      <th>Student Country_Portugal</th>\n",
       "      <td>1.460362e-01</td>\n",
       "    </tr>\n",
       "    <tr>\n",
       "      <th>Student Country_Romania</th>\n",
       "      <td>5.245014e-03</td>\n",
       "    </tr>\n",
       "    <tr>\n",
       "      <th>Student Country_Russian Federation</th>\n",
       "      <td>1.379255e-02</td>\n",
       "    </tr>\n",
       "    <tr>\n",
       "      <th>Student Country_Slovenia</th>\n",
       "      <td>1.696549e-01</td>\n",
       "    </tr>\n",
       "    <tr>\n",
       "      <th>Student Country_Spain</th>\n",
       "      <td>1.245562e-02</td>\n",
       "    </tr>\n",
       "    <tr>\n",
       "      <th>Question Level_Basic</th>\n",
       "      <td>4.360748e-02</td>\n",
       "    </tr>\n",
       "    <tr>\n",
       "      <th>Topic_Complex Numbers</th>\n",
       "      <td>2.555031e-04</td>\n",
       "    </tr>\n",
       "    <tr>\n",
       "      <th>Topic_Differential Equations</th>\n",
       "      <td>1.094595e-02</td>\n",
       "    </tr>\n",
       "    <tr>\n",
       "      <th>Topic_Differentiation</th>\n",
       "      <td>1.234597e-03</td>\n",
       "    </tr>\n",
       "    <tr>\n",
       "      <th>Topic_Fundamental Mathematics</th>\n",
       "      <td>1.474273e-02</td>\n",
       "    </tr>\n",
       "    <tr>\n",
       "      <th>Topic_Graph Theory</th>\n",
       "      <td>1.318938e-03</td>\n",
       "    </tr>\n",
       "    <tr>\n",
       "      <th>Topic_Integration</th>\n",
       "      <td>2.782941e-07</td>\n",
       "    </tr>\n",
       "    <tr>\n",
       "      <th>Topic_Linear Algebra</th>\n",
       "      <td>6.532743e-03</td>\n",
       "    </tr>\n",
       "    <tr>\n",
       "      <th>Topic_Numerical Methods</th>\n",
       "      <td>3.003321e-04</td>\n",
       "    </tr>\n",
       "    <tr>\n",
       "      <th>Topic_Optimization</th>\n",
       "      <td>1.577344e-02</td>\n",
       "    </tr>\n",
       "    <tr>\n",
       "      <th>Topic_Probability</th>\n",
       "      <td>2.477389e-03</td>\n",
       "    </tr>\n",
       "    <tr>\n",
       "      <th>Topic_Real Functions of a single variable</th>\n",
       "      <td>1.540881e-02</td>\n",
       "    </tr>\n",
       "    <tr>\n",
       "      <th>Topic_Set Theory</th>\n",
       "      <td>1.608038e-02</td>\n",
       "    </tr>\n",
       "    <tr>\n",
       "      <th>Topic_Statistics</th>\n",
       "      <td>0.000000e+00</td>\n",
       "    </tr>\n",
       "    <tr>\n",
       "      <th>Subtopic_Analytic Geometry</th>\n",
       "      <td>3.240805e-02</td>\n",
       "    </tr>\n",
       "    <tr>\n",
       "      <th>Subtopic_Complex Numbers</th>\n",
       "      <td>1.203159e-02</td>\n",
       "    </tr>\n",
       "    <tr>\n",
       "      <th>Subtopic_Definite Integrals</th>\n",
       "      <td>1.254244e-02</td>\n",
       "    </tr>\n",
       "    <tr>\n",
       "      <th>Subtopic_Derivatives</th>\n",
       "      <td>1.014142e-02</td>\n",
       "    </tr>\n",
       "    <tr>\n",
       "      <th>Subtopic_Differential Equations</th>\n",
       "      <td>0.000000e+00</td>\n",
       "    </tr>\n",
       "    <tr>\n",
       "      <th>Subtopic_Domain, Image and Graphics</th>\n",
       "      <td>3.780133e-03</td>\n",
       "    </tr>\n",
       "    <tr>\n",
       "      <th>Subtopic_Double Integration</th>\n",
       "      <td>1.011877e-04</td>\n",
       "    </tr>\n",
       "    <tr>\n",
       "      <th>Subtopic_Eigenvalues and Eigenvectors</th>\n",
       "      <td>1.694461e-02</td>\n",
       "    </tr>\n",
       "    <tr>\n",
       "      <th>Subtopic_Elementary Geometry</th>\n",
       "      <td>3.948402e-02</td>\n",
       "    </tr>\n",
       "    <tr>\n",
       "      <th>Subtopic_Graph Theory</th>\n",
       "      <td>1.604794e-03</td>\n",
       "    </tr>\n",
       "    <tr>\n",
       "      <th>Subtopic_Integration Techniques</th>\n",
       "      <td>2.727870e-03</td>\n",
       "    </tr>\n",
       "    <tr>\n",
       "      <th>Subtopic_Limits and Continuity</th>\n",
       "      <td>1.476113e-03</td>\n",
       "    </tr>\n",
       "    <tr>\n",
       "      <th>Subtopic_Linear Optimization</th>\n",
       "      <td>3.661742e-03</td>\n",
       "    </tr>\n",
       "    <tr>\n",
       "      <th>Subtopic_Linear Systems</th>\n",
       "      <td>4.698895e-02</td>\n",
       "    </tr>\n",
       "    <tr>\n",
       "      <th>Subtopic_Linear Transformations</th>\n",
       "      <td>6.743155e-03</td>\n",
       "    </tr>\n",
       "    <tr>\n",
       "      <th>Subtopic_Matrices and Determinants</th>\n",
       "      <td>1.800987e-02</td>\n",
       "    </tr>\n",
       "    <tr>\n",
       "      <th>Subtopic_Nonlinear Optimization</th>\n",
       "      <td>1.480177e-03</td>\n",
       "    </tr>\n",
       "    <tr>\n",
       "      <th>Subtopic_Numerical Methods</th>\n",
       "      <td>4.675608e-03</td>\n",
       "    </tr>\n",
       "    <tr>\n",
       "      <th>Subtopic_Partial Differentiation</th>\n",
       "      <td>2.588411e-02</td>\n",
       "    </tr>\n",
       "    <tr>\n",
       "      <th>Subtopic_Probability</th>\n",
       "      <td>7.569368e-03</td>\n",
       "    </tr>\n",
       "    <tr>\n",
       "      <th>Subtopic_Set Theory</th>\n",
       "      <td>0.000000e+00</td>\n",
       "    </tr>\n",
       "    <tr>\n",
       "      <th>Subtopic_Statistics</th>\n",
       "      <td>8.249169e-03</td>\n",
       "    </tr>\n",
       "    <tr>\n",
       "      <th>Subtopic_Vector Spaces</th>\n",
       "      <td>5.009113e-02</td>\n",
       "    </tr>\n",
       "  </tbody>\n",
       "</table>\n",
       "</div>"
      ],
      "text/plain": [
       "                                           Feature Importances\n",
       "Student Country_Italy                             9.972327e-02\n",
       "Student Country_Lithuania                         1.178184e-01\n",
       "Student Country_Portugal                          1.460362e-01\n",
       "Student Country_Romania                           5.245014e-03\n",
       "Student Country_Russian Federation                1.379255e-02\n",
       "Student Country_Slovenia                          1.696549e-01\n",
       "Student Country_Spain                             1.245562e-02\n",
       "Question Level_Basic                              4.360748e-02\n",
       "Topic_Complex Numbers                             2.555031e-04\n",
       "Topic_Differential Equations                      1.094595e-02\n",
       "Topic_Differentiation                             1.234597e-03\n",
       "Topic_Fundamental Mathematics                     1.474273e-02\n",
       "Topic_Graph Theory                                1.318938e-03\n",
       "Topic_Integration                                 2.782941e-07\n",
       "Topic_Linear Algebra                              6.532743e-03\n",
       "Topic_Numerical Methods                           3.003321e-04\n",
       "Topic_Optimization                                1.577344e-02\n",
       "Topic_Probability                                 2.477389e-03\n",
       "Topic_Real Functions of a single variable         1.540881e-02\n",
       "Topic_Set Theory                                  1.608038e-02\n",
       "Topic_Statistics                                  0.000000e+00\n",
       "Subtopic_Analytic Geometry                        3.240805e-02\n",
       "Subtopic_Complex Numbers                          1.203159e-02\n",
       "Subtopic_Definite Integrals                       1.254244e-02\n",
       "Subtopic_Derivatives                              1.014142e-02\n",
       "Subtopic_Differential Equations                   0.000000e+00\n",
       "Subtopic_Domain, Image and Graphics               3.780133e-03\n",
       "Subtopic_Double Integration                       1.011877e-04\n",
       "Subtopic_Eigenvalues and Eigenvectors             1.694461e-02\n",
       "Subtopic_Elementary Geometry                      3.948402e-02\n",
       "Subtopic_Graph Theory                             1.604794e-03\n",
       "Subtopic_Integration Techniques                   2.727870e-03\n",
       "Subtopic_Limits and Continuity                    1.476113e-03\n",
       "Subtopic_Linear Optimization                      3.661742e-03\n",
       "Subtopic_Linear Systems                           4.698895e-02\n",
       "Subtopic_Linear Transformations                   6.743155e-03\n",
       "Subtopic_Matrices and Determinants                1.800987e-02\n",
       "Subtopic_Nonlinear Optimization                   1.480177e-03\n",
       "Subtopic_Numerical Methods                        4.675608e-03\n",
       "Subtopic_Partial Differentiation                  2.588411e-02\n",
       "Subtopic_Probability                              7.569368e-03\n",
       "Subtopic_Set Theory                               0.000000e+00\n",
       "Subtopic_Statistics                               8.249169e-03\n",
       "Subtopic_Vector Spaces                            5.009113e-02"
      ]
     },
     "execution_count": 33,
     "metadata": {},
     "output_type": "execute_result"
    }
   ],
   "source": [
    "Imp_feat_DT"
   ]
  },
  {
   "cell_type": "code",
   "execution_count": 34,
   "metadata": {},
   "outputs": [
    {
     "data": {
      "text/html": [
       "<div>\n",
       "<style scoped>\n",
       "    .dataframe tbody tr th:only-of-type {\n",
       "        vertical-align: middle;\n",
       "    }\n",
       "\n",
       "    .dataframe tbody tr th {\n",
       "        vertical-align: top;\n",
       "    }\n",
       "\n",
       "    .dataframe thead th {\n",
       "        text-align: right;\n",
       "    }\n",
       "</style>\n",
       "<table border=\"1\" class=\"dataframe\">\n",
       "  <thead>\n",
       "    <tr style=\"text-align: right;\">\n",
       "      <th></th>\n",
       "      <th>Feature Importances</th>\n",
       "    </tr>\n",
       "  </thead>\n",
       "  <tbody>\n",
       "    <tr>\n",
       "      <th>Subtopic_Derivatives</th>\n",
       "      <td>0.010141</td>\n",
       "    </tr>\n",
       "    <tr>\n",
       "      <th>Topic_Differential Equations</th>\n",
       "      <td>0.010946</td>\n",
       "    </tr>\n",
       "    <tr>\n",
       "      <th>Subtopic_Complex Numbers</th>\n",
       "      <td>0.012032</td>\n",
       "    </tr>\n",
       "    <tr>\n",
       "      <th>Student Country_Spain</th>\n",
       "      <td>0.012456</td>\n",
       "    </tr>\n",
       "    <tr>\n",
       "      <th>Subtopic_Definite Integrals</th>\n",
       "      <td>0.012542</td>\n",
       "    </tr>\n",
       "    <tr>\n",
       "      <th>Student Country_Russian Federation</th>\n",
       "      <td>0.013793</td>\n",
       "    </tr>\n",
       "    <tr>\n",
       "      <th>Topic_Fundamental Mathematics</th>\n",
       "      <td>0.014743</td>\n",
       "    </tr>\n",
       "    <tr>\n",
       "      <th>Topic_Real Functions of a single variable</th>\n",
       "      <td>0.015409</td>\n",
       "    </tr>\n",
       "    <tr>\n",
       "      <th>Topic_Optimization</th>\n",
       "      <td>0.015773</td>\n",
       "    </tr>\n",
       "    <tr>\n",
       "      <th>Topic_Set Theory</th>\n",
       "      <td>0.016080</td>\n",
       "    </tr>\n",
       "    <tr>\n",
       "      <th>Subtopic_Eigenvalues and Eigenvectors</th>\n",
       "      <td>0.016945</td>\n",
       "    </tr>\n",
       "    <tr>\n",
       "      <th>Subtopic_Matrices and Determinants</th>\n",
       "      <td>0.018010</td>\n",
       "    </tr>\n",
       "    <tr>\n",
       "      <th>Subtopic_Partial Differentiation</th>\n",
       "      <td>0.025884</td>\n",
       "    </tr>\n",
       "    <tr>\n",
       "      <th>Subtopic_Analytic Geometry</th>\n",
       "      <td>0.032408</td>\n",
       "    </tr>\n",
       "    <tr>\n",
       "      <th>Subtopic_Elementary Geometry</th>\n",
       "      <td>0.039484</td>\n",
       "    </tr>\n",
       "    <tr>\n",
       "      <th>Question Level_Basic</th>\n",
       "      <td>0.043607</td>\n",
       "    </tr>\n",
       "    <tr>\n",
       "      <th>Subtopic_Linear Systems</th>\n",
       "      <td>0.046989</td>\n",
       "    </tr>\n",
       "    <tr>\n",
       "      <th>Subtopic_Vector Spaces</th>\n",
       "      <td>0.050091</td>\n",
       "    </tr>\n",
       "    <tr>\n",
       "      <th>Student Country_Italy</th>\n",
       "      <td>0.099723</td>\n",
       "    </tr>\n",
       "    <tr>\n",
       "      <th>Student Country_Lithuania</th>\n",
       "      <td>0.117818</td>\n",
       "    </tr>\n",
       "    <tr>\n",
       "      <th>Student Country_Portugal</th>\n",
       "      <td>0.146036</td>\n",
       "    </tr>\n",
       "    <tr>\n",
       "      <th>Student Country_Slovenia</th>\n",
       "      <td>0.169655</td>\n",
       "    </tr>\n",
       "  </tbody>\n",
       "</table>\n",
       "</div>"
      ],
      "text/plain": [
       "                                           Feature Importances\n",
       "Subtopic_Derivatives                                  0.010141\n",
       "Topic_Differential Equations                          0.010946\n",
       "Subtopic_Complex Numbers                              0.012032\n",
       "Student Country_Spain                                 0.012456\n",
       "Subtopic_Definite Integrals                           0.012542\n",
       "Student Country_Russian Federation                    0.013793\n",
       "Topic_Fundamental Mathematics                         0.014743\n",
       "Topic_Real Functions of a single variable             0.015409\n",
       "Topic_Optimization                                    0.015773\n",
       "Topic_Set Theory                                      0.016080\n",
       "Subtopic_Eigenvalues and Eigenvectors                 0.016945\n",
       "Subtopic_Matrices and Determinants                    0.018010\n",
       "Subtopic_Partial Differentiation                      0.025884\n",
       "Subtopic_Analytic Geometry                            0.032408\n",
       "Subtopic_Elementary Geometry                          0.039484\n",
       "Question Level_Basic                                  0.043607\n",
       "Subtopic_Linear Systems                               0.046989\n",
       "Subtopic_Vector Spaces                                0.050091\n",
       "Student Country_Italy                                 0.099723\n",
       "Student Country_Lithuania                             0.117818\n",
       "Student Country_Portugal                              0.146036\n",
       "Student Country_Slovenia                              0.169655"
      ]
     },
     "execution_count": 34,
     "metadata": {},
     "output_type": "execute_result"
    }
   ],
   "source": [
    "Imp_feat_DT[Imp_feat_DT[\"Feature Importances\"] > 0.01].sort_values(\"Feature Importances\")"
   ]
  },
  {
   "cell_type": "code",
   "execution_count": 35,
   "metadata": {},
   "outputs": [
    {
     "data": {
      "text/plain": [
       "<AxesSubplot:>"
      ]
     },
     "execution_count": 35,
     "metadata": {},
     "output_type": "execute_result"
    },
    {
     "data": {
      "image/png": "[encoded data removed]",
      "text/plain": [
       "<Figure size 432x288 with 1 Axes>"
      ]
     },
     "metadata": {
      "needs_background": "light"
     },
     "output_type": "display_data"
    }
   ],
   "source": [
    "Imp_feat_DT[Imp_feat_DT[\"Feature Importances\"] > 0.01].sort_values(\"Feature Importances\").plot(kind=\"bar\")"
   ]
  },
  {
   "cell_type": "code",
   "execution_count": null,
   "metadata": {},
   "outputs": [],
   "source": []
  },
  {
   "cell_type": "code",
   "execution_count": null,
   "metadata": {},
   "outputs": [],
   "source": []
  },
  {
   "cell_type": "code",
   "execution_count": 36,
   "metadata": {},
   "outputs": [],
   "source": [
    "from sklearn.ensemble import RandomForestClassifier"
   ]
  },
  {
   "cell_type": "code",
   "execution_count": 37,
   "metadata": {},
   "outputs": [],
   "source": [
    "model = RandomForestClassifier()"
   ]
  },
  {
   "cell_type": "code",
   "execution_count": 39,
   "metadata": {},
   "outputs": [
    {
     "name": "stdout",
     "output_type": "stream",
     "text": [
      "              precision    recall  f1-score   support\n",
      "\n",
      "           0       0.61      0.73      0.66      1544\n",
      "           1       0.59      0.45      0.51      1320\n",
      "\n",
      "    accuracy                           0.60      2864\n",
      "   macro avg       0.60      0.59      0.59      2864\n",
      "weighted avg       0.60      0.60      0.59      2864\n",
      "\n",
      "\n",
      "\n",
      "              precision    recall  f1-score   support\n",
      "\n",
      "           0       0.61      0.74      0.67      1544\n",
      "           1       0.59      0.44      0.51      1320\n",
      "\n",
      "    accuracy                           0.60      2864\n",
      "   macro avg       0.60      0.59      0.59      2864\n",
      "weighted avg       0.60      0.60      0.59      2864\n",
      "\n",
      "\n",
      "\n",
      "              precision    recall  f1-score   support\n",
      "\n",
      "           0       0.61      0.73      0.66      1544\n",
      "           1       0.59      0.45      0.51      1320\n",
      "\n",
      "    accuracy                           0.60      2864\n",
      "   macro avg       0.60      0.59      0.58      2864\n",
      "weighted avg       0.60      0.60      0.59      2864\n",
      "\n",
      "\n",
      "\n",
      "              precision    recall  f1-score   support\n",
      "\n",
      "           0       0.61      0.74      0.66      1544\n",
      "           1       0.59      0.44      0.50      1320\n",
      "\n",
      "    accuracy                           0.60      2864\n",
      "   macro avg       0.60      0.59      0.58      2864\n",
      "weighted avg       0.60      0.60      0.59      2864\n",
      "\n",
      "\n",
      "\n",
      "              precision    recall  f1-score   support\n",
      "\n",
      "           0       0.61      0.73      0.66      1544\n",
      "           1       0.59      0.45      0.51      1320\n",
      "\n",
      "    accuracy                           0.60      2864\n",
      "   macro avg       0.60      0.59      0.58      2864\n",
      "weighted avg       0.60      0.60      0.59      2864\n",
      "\n",
      "\n",
      "\n",
      "              precision    recall  f1-score   support\n",
      "\n",
      "           0       0.61      0.73      0.66      1544\n",
      "           1       0.59      0.45      0.51      1320\n",
      "\n",
      "    accuracy                           0.60      2864\n",
      "   macro avg       0.60      0.59      0.58      2864\n",
      "weighted avg       0.60      0.60      0.59      2864\n",
      "\n",
      "\n",
      "\n",
      "              precision    recall  f1-score   support\n",
      "\n",
      "           0       0.61      0.73      0.66      1544\n",
      "           1       0.58      0.45      0.51      1320\n",
      "\n",
      "    accuracy                           0.60      2864\n",
      "   macro avg       0.60      0.59      0.58      2864\n",
      "weighted avg       0.60      0.60      0.59      2864\n",
      "\n",
      "\n",
      "\n",
      "              precision    recall  f1-score   support\n",
      "\n",
      "           0       0.61      0.73      0.66      1544\n",
      "           1       0.58      0.45      0.51      1320\n",
      "\n",
      "    accuracy                           0.60      2864\n",
      "   macro avg       0.60      0.59      0.58      2864\n",
      "weighted avg       0.60      0.60      0.59      2864\n",
      "\n",
      "\n",
      "\n",
      "              precision    recall  f1-score   support\n",
      "\n",
      "           0       0.61      0.73      0.66      1544\n",
      "           1       0.59      0.45      0.51      1320\n",
      "\n",
      "    accuracy                           0.60      2864\n",
      "   macro avg       0.60      0.59      0.59      2864\n",
      "weighted avg       0.60      0.60      0.59      2864\n",
      "\n",
      "\n",
      "\n",
      "              precision    recall  f1-score   support\n",
      "\n",
      "           0       0.61      0.73      0.66      1544\n",
      "           1       0.59      0.45      0.51      1320\n",
      "\n",
      "    accuracy                           0.60      2864\n",
      "   macro avg       0.60      0.59      0.59      2864\n",
      "weighted avg       0.60      0.60      0.59      2864\n",
      "\n",
      "\n",
      "\n"
     ]
    },
    {
     "data": {
      "image/png": "[encoded data removed]",
      "text/plain": [
       "<Figure size 432x288 with 2 Axes>"
      ]
     },
     "metadata": {
      "needs_background": "light"
     },
     "output_type": "display_data"
    },
    {
     "data": {
      "image/png": "[encoded data removed]",
      "text/plain": [
       "<Figure size 432x288 with 2 Axes>"
      ]
     },
     "metadata": {
      "needs_background": "light"
     },
     "output_type": "display_data"
    },
    {
     "data": {
      "image/png": "[encoded data removed]",
      "text/plain": [
       "<Figure size 432x288 with 2 Axes>"
      ]
     },
     "metadata": {
      "needs_background": "light"
     },
     "output_type": "display_data"
    },
    {
     "data": {
      "image/png": "[encoded data removed]",
      "text/plain": [
       "<Figure size 432x288 with 2 Axes>"
      ]
     },
     "metadata": {
      "needs_background": "light"
     },
     "output_type": "display_data"
    },
    {
     "data": {
      "image/png": "[encoded data removed]",
      "text/plain": [
       "<Figure size 432x288 with 2 Axes>"
      ]
     },
     "metadata": {
      "needs_background": "light"
     },
     "output_type": "display_data"
    },
    {
     "data": {
      "image/png": "[encoded data removed]",
      "text/plain": [
       "<Figure size 432x288 with 2 Axes>"
      ]
     },
     "metadata": {
      "needs_background": "light"
     },
     "output_type": "display_data"
    },
    {
     "data": {
      "image/png": "[encoded data removed]",
      "text/plain": [
       "<Figure size 432x288 with 2 Axes>"
      ]
     },
     "metadata": {
      "needs_background": "light"
     },
     "output_type": "display_data"
    },
    {
     "data": {
      "image/png": "[encoded data removed]",
      "text/plain": [
       "<Figure size 432x288 with 2 Axes>"
      ]
     },
     "metadata": {
      "needs_background": "light"
     },
     "output_type": "display_data"
    },
    {
     "data": {
      "image/png": "[encoded data removed]",
      "text/plain": [
       "<Figure size 432x288 with 2 Axes>"
      ]
     },
     "metadata": {
      "needs_background": "light"
     },
     "output_type": "display_data"
    },
    {
     "data": {
      "image/png": "[encoded data removed]",
      "text/plain": [
       "<Figure size 432x288 with 2 Axes>"
      ]
     },
     "metadata": {
      "needs_background": "light"
     },
     "output_type": "display_data"
    }
   ],
   "source": [
    "trees = list(range(10,110,10))\n",
    "for n in trees:\n",
    "    \n",
    "    model = RandomForestClassifier(n_estimators=n)\n",
    "    \n",
    "    run_model(model,X_train,y_train,X_test,y_test)"
   ]
  },
  {
   "cell_type": "code",
   "execution_count": 40,
   "metadata": {},
   "outputs": [
    {
     "data": {
      "text/plain": [
       "array([0.07512748, 0.08579356, 0.09960314, 0.0142295 , 0.02366888,\n",
       "       0.11183467, 0.01035005, 0.11222271, 0.01462011, 0.00699195,\n",
       "       0.02272285, 0.01270534, 0.00566735, 0.00483482, 0.01934399,\n",
       "       0.00649272, 0.00740617, 0.00779409, 0.01152729, 0.00818486,\n",
       "       0.00595452, 0.03339607, 0.01420944, 0.00890078, 0.0088536 ,\n",
       "       0.005098  , 0.01138487, 0.00288745, 0.0185325 , 0.04832377,\n",
       "       0.00562082, 0.00668244, 0.00309187, 0.0128665 , 0.03320884,\n",
       "       0.02829447, 0.01410314, 0.00408777, 0.00710483, 0.01611444,\n",
       "       0.00606957, 0.00627227, 0.00450179, 0.03331872])"
      ]
     },
     "execution_count": 40,
     "metadata": {},
     "output_type": "execute_result"
    }
   ],
   "source": [
    "model.feature_importances_"
   ]
  },
  {
   "cell_type": "code",
   "execution_count": 41,
   "metadata": {},
   "outputs": [],
   "source": [
    "Imp_feat_RF = pd.DataFrame(index=X.columns, data=model.feature_importances_, columns=[\"Feature Importances\"])"
   ]
  },
  {
   "cell_type": "code",
   "execution_count": 42,
   "metadata": {},
   "outputs": [
    {
     "data": {
      "text/html": [
       "<div>\n",
       "<style scoped>\n",
       "    .dataframe tbody tr th:only-of-type {\n",
       "        vertical-align: middle;\n",
       "    }\n",
       "\n",
       "    .dataframe tbody tr th {\n",
       "        vertical-align: top;\n",
       "    }\n",
       "\n",
       "    .dataframe thead th {\n",
       "        text-align: right;\n",
       "    }\n",
       "</style>\n",
       "<table border=\"1\" class=\"dataframe\">\n",
       "  <thead>\n",
       "    <tr style=\"text-align: right;\">\n",
       "      <th></th>\n",
       "      <th>Feature Importances</th>\n",
       "    </tr>\n",
       "  </thead>\n",
       "  <tbody>\n",
       "    <tr>\n",
       "      <th>Student Country_Italy</th>\n",
       "      <td>0.075127</td>\n",
       "    </tr>\n",
       "    <tr>\n",
       "      <th>Student Country_Lithuania</th>\n",
       "      <td>0.085794</td>\n",
       "    </tr>\n",
       "    <tr>\n",
       "      <th>Student Country_Portugal</th>\n",
       "      <td>0.099603</td>\n",
       "    </tr>\n",
       "    <tr>\n",
       "      <th>Student Country_Romania</th>\n",
       "      <td>0.014230</td>\n",
       "    </tr>\n",
       "    <tr>\n",
       "      <th>Student Country_Russian Federation</th>\n",
       "      <td>0.023669</td>\n",
       "    </tr>\n",
       "    <tr>\n",
       "      <th>Student Country_Slovenia</th>\n",
       "      <td>0.111835</td>\n",
       "    </tr>\n",
       "    <tr>\n",
       "      <th>Student Country_Spain</th>\n",
       "      <td>0.010350</td>\n",
       "    </tr>\n",
       "    <tr>\n",
       "      <th>Question Level_Basic</th>\n",
       "      <td>0.112223</td>\n",
       "    </tr>\n",
       "    <tr>\n",
       "      <th>Topic_Complex Numbers</th>\n",
       "      <td>0.014620</td>\n",
       "    </tr>\n",
       "    <tr>\n",
       "      <th>Topic_Differential Equations</th>\n",
       "      <td>0.006992</td>\n",
       "    </tr>\n",
       "    <tr>\n",
       "      <th>Topic_Differentiation</th>\n",
       "      <td>0.022723</td>\n",
       "    </tr>\n",
       "    <tr>\n",
       "      <th>Topic_Fundamental Mathematics</th>\n",
       "      <td>0.012705</td>\n",
       "    </tr>\n",
       "    <tr>\n",
       "      <th>Topic_Graph Theory</th>\n",
       "      <td>0.005667</td>\n",
       "    </tr>\n",
       "    <tr>\n",
       "      <th>Topic_Integration</th>\n",
       "      <td>0.004835</td>\n",
       "    </tr>\n",
       "    <tr>\n",
       "      <th>Topic_Linear Algebra</th>\n",
       "      <td>0.019344</td>\n",
       "    </tr>\n",
       "    <tr>\n",
       "      <th>Topic_Numerical Methods</th>\n",
       "      <td>0.006493</td>\n",
       "    </tr>\n",
       "    <tr>\n",
       "      <th>Topic_Optimization</th>\n",
       "      <td>0.007406</td>\n",
       "    </tr>\n",
       "    <tr>\n",
       "      <th>Topic_Probability</th>\n",
       "      <td>0.007794</td>\n",
       "    </tr>\n",
       "    <tr>\n",
       "      <th>Topic_Real Functions of a single variable</th>\n",
       "      <td>0.011527</td>\n",
       "    </tr>\n",
       "    <tr>\n",
       "      <th>Topic_Set Theory</th>\n",
       "      <td>0.008185</td>\n",
       "    </tr>\n",
       "    <tr>\n",
       "      <th>Topic_Statistics</th>\n",
       "      <td>0.005955</td>\n",
       "    </tr>\n",
       "    <tr>\n",
       "      <th>Subtopic_Analytic Geometry</th>\n",
       "      <td>0.033396</td>\n",
       "    </tr>\n",
       "    <tr>\n",
       "      <th>Subtopic_Complex Numbers</th>\n",
       "      <td>0.014209</td>\n",
       "    </tr>\n",
       "    <tr>\n",
       "      <th>Subtopic_Definite Integrals</th>\n",
       "      <td>0.008901</td>\n",
       "    </tr>\n",
       "    <tr>\n",
       "      <th>Subtopic_Derivatives</th>\n",
       "      <td>0.008854</td>\n",
       "    </tr>\n",
       "    <tr>\n",
       "      <th>Subtopic_Differential Equations</th>\n",
       "      <td>0.005098</td>\n",
       "    </tr>\n",
       "    <tr>\n",
       "      <th>Subtopic_Domain, Image and Graphics</th>\n",
       "      <td>0.011385</td>\n",
       "    </tr>\n",
       "    <tr>\n",
       "      <th>Subtopic_Double Integration</th>\n",
       "      <td>0.002887</td>\n",
       "    </tr>\n",
       "    <tr>\n",
       "      <th>Subtopic_Eigenvalues and Eigenvectors</th>\n",
       "      <td>0.018532</td>\n",
       "    </tr>\n",
       "    <tr>\n",
       "      <th>Subtopic_Elementary Geometry</th>\n",
       "      <td>0.048324</td>\n",
       "    </tr>\n",
       "    <tr>\n",
       "      <th>Subtopic_Graph Theory</th>\n",
       "      <td>0.005621</td>\n",
       "    </tr>\n",
       "    <tr>\n",
       "      <th>Subtopic_Integration Techniques</th>\n",
       "      <td>0.006682</td>\n",
       "    </tr>\n",
       "    <tr>\n",
       "      <th>Subtopic_Limits and Continuity</th>\n",
       "      <td>0.003092</td>\n",
       "    </tr>\n",
       "    <tr>\n",
       "      <th>Subtopic_Linear Optimization</th>\n",
       "      <td>0.012866</td>\n",
       "    </tr>\n",
       "    <tr>\n",
       "      <th>Subtopic_Linear Systems</th>\n",
       "      <td>0.033209</td>\n",
       "    </tr>\n",
       "    <tr>\n",
       "      <th>Subtopic_Linear Transformations</th>\n",
       "      <td>0.028294</td>\n",
       "    </tr>\n",
       "    <tr>\n",
       "      <th>Subtopic_Matrices and Determinants</th>\n",
       "      <td>0.014103</td>\n",
       "    </tr>\n",
       "    <tr>\n",
       "      <th>Subtopic_Nonlinear Optimization</th>\n",
       "      <td>0.004088</td>\n",
       "    </tr>\n",
       "    <tr>\n",
       "      <th>Subtopic_Numerical Methods</th>\n",
       "      <td>0.007105</td>\n",
       "    </tr>\n",
       "    <tr>\n",
       "      <th>Subtopic_Partial Differentiation</th>\n",
       "      <td>0.016114</td>\n",
       "    </tr>\n",
       "    <tr>\n",
       "      <th>Subtopic_Probability</th>\n",
       "      <td>0.006070</td>\n",
       "    </tr>\n",
       "    <tr>\n",
       "      <th>Subtopic_Set Theory</th>\n",
       "      <td>0.006272</td>\n",
       "    </tr>\n",
       "    <tr>\n",
       "      <th>Subtopic_Statistics</th>\n",
       "      <td>0.004502</td>\n",
       "    </tr>\n",
       "    <tr>\n",
       "      <th>Subtopic_Vector Spaces</th>\n",
       "      <td>0.033319</td>\n",
       "    </tr>\n",
       "  </tbody>\n",
       "</table>\n",
       "</div>"
      ],
      "text/plain": [
       "                                           Feature Importances\n",
       "Student Country_Italy                                 0.075127\n",
       "Student Country_Lithuania                             0.085794\n",
       "Student Country_Portugal                              0.099603\n",
       "Student Country_Romania                               0.014230\n",
       "Student Country_Russian Federation                    0.023669\n",
       "Student Country_Slovenia                              0.111835\n",
       "Student Country_Spain                                 0.010350\n",
       "Question Level_Basic                                  0.112223\n",
       "Topic_Complex Numbers                                 0.014620\n",
       "Topic_Differential Equations                          0.006992\n",
       "Topic_Differentiation                                 0.022723\n",
       "Topic_Fundamental Mathematics                         0.012705\n",
       "Topic_Graph Theory                                    0.005667\n",
       "Topic_Integration                                     0.004835\n",
       "Topic_Linear Algebra                                  0.019344\n",
       "Topic_Numerical Methods                               0.006493\n",
       "Topic_Optimization                                    0.007406\n",
       "Topic_Probability                                     0.007794\n",
       "Topic_Real Functions of a single variable             0.011527\n",
       "Topic_Set Theory                                      0.008185\n",
       "Topic_Statistics                                      0.005955\n",
       "Subtopic_Analytic Geometry                            0.033396\n",
       "Subtopic_Complex Numbers                              0.014209\n",
       "Subtopic_Definite Integrals                           0.008901\n",
       "Subtopic_Derivatives                                  0.008854\n",
       "Subtopic_Differential Equations                       0.005098\n",
       "Subtopic_Domain, Image and Graphics                   0.011385\n",
       "Subtopic_Double Integration                           0.002887\n",
       "Subtopic_Eigenvalues and Eigenvectors                 0.018532\n",
       "Subtopic_Elementary Geometry                          0.048324\n",
       "Subtopic_Graph Theory                                 0.005621\n",
       "Subtopic_Integration Techniques                       0.006682\n",
       "Subtopic_Limits and Continuity                        0.003092\n",
       "Subtopic_Linear Optimization                          0.012866\n",
       "Subtopic_Linear Systems                               0.033209\n",
       "Subtopic_Linear Transformations                       0.028294\n",
       "Subtopic_Matrices and Determinants                    0.014103\n",
       "Subtopic_Nonlinear Optimization                       0.004088\n",
       "Subtopic_Numerical Methods                            0.007105\n",
       "Subtopic_Partial Differentiation                      0.016114\n",
       "Subtopic_Probability                                  0.006070\n",
       "Subtopic_Set Theory                                   0.006272\n",
       "Subtopic_Statistics                                   0.004502\n",
       "Subtopic_Vector Spaces                                0.033319"
      ]
     },
     "execution_count": 42,
     "metadata": {},
     "output_type": "execute_result"
    }
   ],
   "source": [
    "Imp_feat_RF"
   ]
  },
  {
   "cell_type": "code",
   "execution_count": 43,
   "metadata": {},
   "outputs": [
    {
     "data": {
      "text/html": [
       "<div>\n",
       "<style scoped>\n",
       "    .dataframe tbody tr th:only-of-type {\n",
       "        vertical-align: middle;\n",
       "    }\n",
       "\n",
       "    .dataframe tbody tr th {\n",
       "        vertical-align: top;\n",
       "    }\n",
       "\n",
       "    .dataframe thead th {\n",
       "        text-align: right;\n",
       "    }\n",
       "</style>\n",
       "<table border=\"1\" class=\"dataframe\">\n",
       "  <thead>\n",
       "    <tr style=\"text-align: right;\">\n",
       "      <th></th>\n",
       "      <th>Feature Importances</th>\n",
       "    </tr>\n",
       "  </thead>\n",
       "  <tbody>\n",
       "    <tr>\n",
       "      <th>Student Country_Spain</th>\n",
       "      <td>0.010350</td>\n",
       "    </tr>\n",
       "    <tr>\n",
       "      <th>Subtopic_Domain, Image and Graphics</th>\n",
       "      <td>0.011385</td>\n",
       "    </tr>\n",
       "    <tr>\n",
       "      <th>Topic_Real Functions of a single variable</th>\n",
       "      <td>0.011527</td>\n",
       "    </tr>\n",
       "    <tr>\n",
       "      <th>Topic_Fundamental Mathematics</th>\n",
       "      <td>0.012705</td>\n",
       "    </tr>\n",
       "    <tr>\n",
       "      <th>Subtopic_Linear Optimization</th>\n",
       "      <td>0.012866</td>\n",
       "    </tr>\n",
       "    <tr>\n",
       "      <th>Subtopic_Matrices and Determinants</th>\n",
       "      <td>0.014103</td>\n",
       "    </tr>\n",
       "    <tr>\n",
       "      <th>Subtopic_Complex Numbers</th>\n",
       "      <td>0.014209</td>\n",
       "    </tr>\n",
       "    <tr>\n",
       "      <th>Student Country_Romania</th>\n",
       "      <td>0.014230</td>\n",
       "    </tr>\n",
       "    <tr>\n",
       "      <th>Topic_Complex Numbers</th>\n",
       "      <td>0.014620</td>\n",
       "    </tr>\n",
       "    <tr>\n",
       "      <th>Subtopic_Partial Differentiation</th>\n",
       "      <td>0.016114</td>\n",
       "    </tr>\n",
       "    <tr>\n",
       "      <th>Subtopic_Eigenvalues and Eigenvectors</th>\n",
       "      <td>0.018532</td>\n",
       "    </tr>\n",
       "    <tr>\n",
       "      <th>Topic_Linear Algebra</th>\n",
       "      <td>0.019344</td>\n",
       "    </tr>\n",
       "    <tr>\n",
       "      <th>Topic_Differentiation</th>\n",
       "      <td>0.022723</td>\n",
       "    </tr>\n",
       "    <tr>\n",
       "      <th>Student Country_Russian Federation</th>\n",
       "      <td>0.023669</td>\n",
       "    </tr>\n",
       "    <tr>\n",
       "      <th>Subtopic_Linear Transformations</th>\n",
       "      <td>0.028294</td>\n",
       "    </tr>\n",
       "    <tr>\n",
       "      <th>Subtopic_Linear Systems</th>\n",
       "      <td>0.033209</td>\n",
       "    </tr>\n",
       "    <tr>\n",
       "      <th>Subtopic_Vector Spaces</th>\n",
       "      <td>0.033319</td>\n",
       "    </tr>\n",
       "    <tr>\n",
       "      <th>Subtopic_Analytic Geometry</th>\n",
       "      <td>0.033396</td>\n",
       "    </tr>\n",
       "    <tr>\n",
       "      <th>Subtopic_Elementary Geometry</th>\n",
       "      <td>0.048324</td>\n",
       "    </tr>\n",
       "    <tr>\n",
       "      <th>Student Country_Italy</th>\n",
       "      <td>0.075127</td>\n",
       "    </tr>\n",
       "    <tr>\n",
       "      <th>Student Country_Lithuania</th>\n",
       "      <td>0.085794</td>\n",
       "    </tr>\n",
       "    <tr>\n",
       "      <th>Student Country_Portugal</th>\n",
       "      <td>0.099603</td>\n",
       "    </tr>\n",
       "    <tr>\n",
       "      <th>Student Country_Slovenia</th>\n",
       "      <td>0.111835</td>\n",
       "    </tr>\n",
       "    <tr>\n",
       "      <th>Question Level_Basic</th>\n",
       "      <td>0.112223</td>\n",
       "    </tr>\n",
       "  </tbody>\n",
       "</table>\n",
       "</div>"
      ],
      "text/plain": [
       "                                           Feature Importances\n",
       "Student Country_Spain                                 0.010350\n",
       "Subtopic_Domain, Image and Graphics                   0.011385\n",
       "Topic_Real Functions of a single variable             0.011527\n",
       "Topic_Fundamental Mathematics                         0.012705\n",
       "Subtopic_Linear Optimization                          0.012866\n",
       "Subtopic_Matrices and Determinants                    0.014103\n",
       "Subtopic_Complex Numbers                              0.014209\n",
       "Student Country_Romania                               0.014230\n",
       "Topic_Complex Numbers                                 0.014620\n",
       "Subtopic_Partial Differentiation                      0.016114\n",
       "Subtopic_Eigenvalues and Eigenvectors                 0.018532\n",
       "Topic_Linear Algebra                                  0.019344\n",
       "Topic_Differentiation                                 0.022723\n",
       "Student Country_Russian Federation                    0.023669\n",
       "Subtopic_Linear Transformations                       0.028294\n",
       "Subtopic_Linear Systems                               0.033209\n",
       "Subtopic_Vector Spaces                                0.033319\n",
       "Subtopic_Analytic Geometry                            0.033396\n",
       "Subtopic_Elementary Geometry                          0.048324\n",
       "Student Country_Italy                                 0.075127\n",
       "Student Country_Lithuania                             0.085794\n",
       "Student Country_Portugal                              0.099603\n",
       "Student Country_Slovenia                              0.111835\n",
       "Question Level_Basic                                  0.112223"
      ]
     },
     "execution_count": 43,
     "metadata": {},
     "output_type": "execute_result"
    }
   ],
   "source": [
    "Imp_feat_RF[Imp_feat_RF[\"Feature Importances\"] > 0.01].sort_values(\"Feature Importances\")"
   ]
  },
  {
   "cell_type": "code",
   "execution_count": 44,
   "metadata": {},
   "outputs": [
    {
     "data": {
      "text/plain": [
       "<AxesSubplot:>"
      ]
     },
     "execution_count": 44,
     "metadata": {},
     "output_type": "execute_result"
    },
    {
     "data": {
      "image/png": "[encoded data removed]",
      "text/plain": [
       "<Figure size 432x288 with 1 Axes>"
      ]
     },
     "metadata": {
      "needs_background": "light"
     },
     "output_type": "display_data"
    }
   ],
   "source": [
    "Imp_feat_RF[Imp_feat_RF[\"Feature Importances\"] > 0.01].sort_values(\"Feature Importances\").plot(kind=\"bar\")"
   ]
  },
  {
   "cell_type": "code",
   "execution_count": null,
   "metadata": {},
   "outputs": [],
   "source": []
  },
  {
   "cell_type": "code",
   "execution_count": null,
   "metadata": {},
   "outputs": [],
   "source": []
  },
  {
   "cell_type": "code",
   "execution_count": 45,
   "metadata": {},
   "outputs": [],
   "source": [
    "from sklearn.ensemble import GradientBoostingClassifier"
   ]
  },
  {
   "cell_type": "code",
   "execution_count": 46,
   "metadata": {},
   "outputs": [],
   "source": [
    "model = GradientBoostingClassifier()"
   ]
  },
  {
   "cell_type": "code",
   "execution_count": 47,
   "metadata": {},
   "outputs": [
    {
     "name": "stdout",
     "output_type": "stream",
     "text": [
      "              precision    recall  f1-score   support\n",
      "\n",
      "           0       0.59      0.77      0.67      1544\n",
      "           1       0.59      0.38      0.46      1320\n",
      "\n",
      "    accuracy                           0.59      2864\n",
      "   macro avg       0.59      0.58      0.57      2864\n",
      "weighted avg       0.59      0.59      0.58      2864\n",
      "\n",
      "\n",
      "\n"
     ]
    },
    {
     "data": {
      "image/png": "[encoded data removed]",
      "text/plain": [
       "<Figure size 432x288 with 2 Axes>"
      ]
     },
     "metadata": {
      "needs_background": "light"
     },
     "output_type": "display_data"
    }
   ],
   "source": [
    "run_model(model,X_train,y_train,X_test,y_test)"
   ]
  },
  {
   "cell_type": "code",
   "execution_count": 48,
   "metadata": {},
   "outputs": [
    {
     "data": {
      "text/plain": [
       "array([0.07447936, 0.07565562, 0.09695053, 0.00864571, 0.02422606,\n",
       "       0.23414413, 0.00375342, 0.10533409, 0.01750913, 0.00291827,\n",
       "       0.03542797, 0.00765815, 0.00572357, 0.        , 0.00490563,\n",
       "       0.00105564, 0.        , 0.00077272, 0.01966994, 0.00690702,\n",
       "       0.00114599, 0.00371706, 0.        , 0.01361694, 0.00123367,\n",
       "       0.00601929, 0.00441548, 0.        , 0.02031864, 0.0571295 ,\n",
       "       0.00103431, 0.00602709, 0.00053507, 0.01964719, 0.03411831,\n",
       "       0.02010962, 0.01567902, 0.        , 0.00602725, 0.00790671,\n",
       "       0.00421982, 0.01159507, 0.00132303, 0.03844398])"
      ]
     },
     "execution_count": 48,
     "metadata": {},
     "output_type": "execute_result"
    }
   ],
   "source": [
    "model.feature_importances_"
   ]
  },
  {
   "cell_type": "code",
   "execution_count": 49,
   "metadata": {},
   "outputs": [],
   "source": [
    "Imp_feat_GB = pd.DataFrame(index=X.columns, data=model.feature_importances_, columns=[\"Feature Importances\"])"
   ]
  },
  {
   "cell_type": "code",
   "execution_count": 50,
   "metadata": {},
   "outputs": [
    {
     "data": {
      "text/html": [
       "<div>\n",
       "<style scoped>\n",
       "    .dataframe tbody tr th:only-of-type {\n",
       "        vertical-align: middle;\n",
       "    }\n",
       "\n",
       "    .dataframe tbody tr th {\n",
       "        vertical-align: top;\n",
       "    }\n",
       "\n",
       "    .dataframe thead th {\n",
       "        text-align: right;\n",
       "    }\n",
       "</style>\n",
       "<table border=\"1\" class=\"dataframe\">\n",
       "  <thead>\n",
       "    <tr style=\"text-align: right;\">\n",
       "      <th></th>\n",
       "      <th>Feature Importances</th>\n",
       "    </tr>\n",
       "  </thead>\n",
       "  <tbody>\n",
       "    <tr>\n",
       "      <th>Student Country_Italy</th>\n",
       "      <td>0.074479</td>\n",
       "    </tr>\n",
       "    <tr>\n",
       "      <th>Student Country_Lithuania</th>\n",
       "      <td>0.075656</td>\n",
       "    </tr>\n",
       "    <tr>\n",
       "      <th>Student Country_Portugal</th>\n",
       "      <td>0.096951</td>\n",
       "    </tr>\n",
       "    <tr>\n",
       "      <th>Student Country_Romania</th>\n",
       "      <td>0.008646</td>\n",
       "    </tr>\n",
       "    <tr>\n",
       "      <th>Student Country_Russian Federation</th>\n",
       "      <td>0.024226</td>\n",
       "    </tr>\n",
       "    <tr>\n",
       "      <th>Student Country_Slovenia</th>\n",
       "      <td>0.234144</td>\n",
       "    </tr>\n",
       "    <tr>\n",
       "      <th>Student Country_Spain</th>\n",
       "      <td>0.003753</td>\n",
       "    </tr>\n",
       "    <tr>\n",
       "      <th>Question Level_Basic</th>\n",
       "      <td>0.105334</td>\n",
       "    </tr>\n",
       "    <tr>\n",
       "      <th>Topic_Complex Numbers</th>\n",
       "      <td>0.017509</td>\n",
       "    </tr>\n",
       "    <tr>\n",
       "      <th>Topic_Differential Equations</th>\n",
       "      <td>0.002918</td>\n",
       "    </tr>\n",
       "    <tr>\n",
       "      <th>Topic_Differentiation</th>\n",
       "      <td>0.035428</td>\n",
       "    </tr>\n",
       "    <tr>\n",
       "      <th>Topic_Fundamental Mathematics</th>\n",
       "      <td>0.007658</td>\n",
       "    </tr>\n",
       "    <tr>\n",
       "      <th>Topic_Graph Theory</th>\n",
       "      <td>0.005724</td>\n",
       "    </tr>\n",
       "    <tr>\n",
       "      <th>Topic_Integration</th>\n",
       "      <td>0.000000</td>\n",
       "    </tr>\n",
       "    <tr>\n",
       "      <th>Topic_Linear Algebra</th>\n",
       "      <td>0.004906</td>\n",
       "    </tr>\n",
       "    <tr>\n",
       "      <th>Topic_Numerical Methods</th>\n",
       "      <td>0.001056</td>\n",
       "    </tr>\n",
       "    <tr>\n",
       "      <th>Topic_Optimization</th>\n",
       "      <td>0.000000</td>\n",
       "    </tr>\n",
       "    <tr>\n",
       "      <th>Topic_Probability</th>\n",
       "      <td>0.000773</td>\n",
       "    </tr>\n",
       "    <tr>\n",
       "      <th>Topic_Real Functions of a single variable</th>\n",
       "      <td>0.019670</td>\n",
       "    </tr>\n",
       "    <tr>\n",
       "      <th>Topic_Set Theory</th>\n",
       "      <td>0.006907</td>\n",
       "    </tr>\n",
       "    <tr>\n",
       "      <th>Topic_Statistics</th>\n",
       "      <td>0.001146</td>\n",
       "    </tr>\n",
       "    <tr>\n",
       "      <th>Subtopic_Analytic Geometry</th>\n",
       "      <td>0.003717</td>\n",
       "    </tr>\n",
       "    <tr>\n",
       "      <th>Subtopic_Complex Numbers</th>\n",
       "      <td>0.000000</td>\n",
       "    </tr>\n",
       "    <tr>\n",
       "      <th>Subtopic_Definite Integrals</th>\n",
       "      <td>0.013617</td>\n",
       "    </tr>\n",
       "    <tr>\n",
       "      <th>Subtopic_Derivatives</th>\n",
       "      <td>0.001234</td>\n",
       "    </tr>\n",
       "    <tr>\n",
       "      <th>Subtopic_Differential Equations</th>\n",
       "      <td>0.006019</td>\n",
       "    </tr>\n",
       "    <tr>\n",
       "      <th>Subtopic_Domain, Image and Graphics</th>\n",
       "      <td>0.004415</td>\n",
       "    </tr>\n",
       "    <tr>\n",
       "      <th>Subtopic_Double Integration</th>\n",
       "      <td>0.000000</td>\n",
       "    </tr>\n",
       "    <tr>\n",
       "      <th>Subtopic_Eigenvalues and Eigenvectors</th>\n",
       "      <td>0.020319</td>\n",
       "    </tr>\n",
       "    <tr>\n",
       "      <th>Subtopic_Elementary Geometry</th>\n",
       "      <td>0.057130</td>\n",
       "    </tr>\n",
       "    <tr>\n",
       "      <th>Subtopic_Graph Theory</th>\n",
       "      <td>0.001034</td>\n",
       "    </tr>\n",
       "    <tr>\n",
       "      <th>Subtopic_Integration Techniques</th>\n",
       "      <td>0.006027</td>\n",
       "    </tr>\n",
       "    <tr>\n",
       "      <th>Subtopic_Limits and Continuity</th>\n",
       "      <td>0.000535</td>\n",
       "    </tr>\n",
       "    <tr>\n",
       "      <th>Subtopic_Linear Optimization</th>\n",
       "      <td>0.019647</td>\n",
       "    </tr>\n",
       "    <tr>\n",
       "      <th>Subtopic_Linear Systems</th>\n",
       "      <td>0.034118</td>\n",
       "    </tr>\n",
       "    <tr>\n",
       "      <th>Subtopic_Linear Transformations</th>\n",
       "      <td>0.020110</td>\n",
       "    </tr>\n",
       "    <tr>\n",
       "      <th>Subtopic_Matrices and Determinants</th>\n",
       "      <td>0.015679</td>\n",
       "    </tr>\n",
       "    <tr>\n",
       "      <th>Subtopic_Nonlinear Optimization</th>\n",
       "      <td>0.000000</td>\n",
       "    </tr>\n",
       "    <tr>\n",
       "      <th>Subtopic_Numerical Methods</th>\n",
       "      <td>0.006027</td>\n",
       "    </tr>\n",
       "    <tr>\n",
       "      <th>Subtopic_Partial Differentiation</th>\n",
       "      <td>0.007907</td>\n",
       "    </tr>\n",
       "    <tr>\n",
       "      <th>Subtopic_Probability</th>\n",
       "      <td>0.004220</td>\n",
       "    </tr>\n",
       "    <tr>\n",
       "      <th>Subtopic_Set Theory</th>\n",
       "      <td>0.011595</td>\n",
       "    </tr>\n",
       "    <tr>\n",
       "      <th>Subtopic_Statistics</th>\n",
       "      <td>0.001323</td>\n",
       "    </tr>\n",
       "    <tr>\n",
       "      <th>Subtopic_Vector Spaces</th>\n",
       "      <td>0.038444</td>\n",
       "    </tr>\n",
       "  </tbody>\n",
       "</table>\n",
       "</div>"
      ],
      "text/plain": [
       "                                           Feature Importances\n",
       "Student Country_Italy                                 0.074479\n",
       "Student Country_Lithuania                             0.075656\n",
       "Student Country_Portugal                              0.096951\n",
       "Student Country_Romania                               0.008646\n",
       "Student Country_Russian Federation                    0.024226\n",
       "Student Country_Slovenia                              0.234144\n",
       "Student Country_Spain                                 0.003753\n",
       "Question Level_Basic                                  0.105334\n",
       "Topic_Complex Numbers                                 0.017509\n",
       "Topic_Differential Equations                          0.002918\n",
       "Topic_Differentiation                                 0.035428\n",
       "Topic_Fundamental Mathematics                         0.007658\n",
       "Topic_Graph Theory                                    0.005724\n",
       "Topic_Integration                                     0.000000\n",
       "Topic_Linear Algebra                                  0.004906\n",
       "Topic_Numerical Methods                               0.001056\n",
       "Topic_Optimization                                    0.000000\n",
       "Topic_Probability                                     0.000773\n",
       "Topic_Real Functions of a single variable             0.019670\n",
       "Topic_Set Theory                                      0.006907\n",
       "Topic_Statistics                                      0.001146\n",
       "Subtopic_Analytic Geometry                            0.003717\n",
       "Subtopic_Complex Numbers                              0.000000\n",
       "Subtopic_Definite Integrals                           0.013617\n",
       "Subtopic_Derivatives                                  0.001234\n",
       "Subtopic_Differential Equations                       0.006019\n",
       "Subtopic_Domain, Image and Graphics                   0.004415\n",
       "Subtopic_Double Integration                           0.000000\n",
       "Subtopic_Eigenvalues and Eigenvectors                 0.020319\n",
       "Subtopic_Elementary Geometry                          0.057130\n",
       "Subtopic_Graph Theory                                 0.001034\n",
       "Subtopic_Integration Techniques                       0.006027\n",
       "Subtopic_Limits and Continuity                        0.000535\n",
       "Subtopic_Linear Optimization                          0.019647\n",
       "Subtopic_Linear Systems                               0.034118\n",
       "Subtopic_Linear Transformations                       0.020110\n",
       "Subtopic_Matrices and Determinants                    0.015679\n",
       "Subtopic_Nonlinear Optimization                       0.000000\n",
       "Subtopic_Numerical Methods                            0.006027\n",
       "Subtopic_Partial Differentiation                      0.007907\n",
       "Subtopic_Probability                                  0.004220\n",
       "Subtopic_Set Theory                                   0.011595\n",
       "Subtopic_Statistics                                   0.001323\n",
       "Subtopic_Vector Spaces                                0.038444"
      ]
     },
     "execution_count": 50,
     "metadata": {},
     "output_type": "execute_result"
    }
   ],
   "source": [
    "Imp_feat_GB"
   ]
  },
  {
   "cell_type": "code",
   "execution_count": 51,
   "metadata": {},
   "outputs": [
    {
     "data": {
      "text/plain": [
       "6682"
      ]
     },
     "execution_count": 51,
     "metadata": {},
     "output_type": "execute_result"
    }
   ],
   "source": [
    "len(X_train)"
   ]
  },
  {
   "cell_type": "code",
   "execution_count": 52,
   "metadata": {},
   "outputs": [
    {
     "data": {
      "text/plain": [
       "2864"
      ]
     },
     "execution_count": 52,
     "metadata": {},
     "output_type": "execute_result"
    }
   ],
   "source": [
    "len(X_test)"
   ]
  },
  {
   "cell_type": "code",
   "execution_count": 53,
   "metadata": {},
   "outputs": [
    {
     "data": {
      "text/plain": [
       "9546"
      ]
     },
     "execution_count": 53,
     "metadata": {},
     "output_type": "execute_result"
    }
   ],
   "source": [
    "6682+2864"
   ]
  },
  {
   "cell_type": "code",
   "execution_count": 54,
   "metadata": {},
   "outputs": [
    {
     "data": {
      "text/html": [
       "<div>\n",
       "<style scoped>\n",
       "    .dataframe tbody tr th:only-of-type {\n",
       "        vertical-align: middle;\n",
       "    }\n",
       "\n",
       "    .dataframe tbody tr th {\n",
       "        vertical-align: top;\n",
       "    }\n",
       "\n",
       "    .dataframe thead th {\n",
       "        text-align: right;\n",
       "    }\n",
       "</style>\n",
       "<table border=\"1\" class=\"dataframe\">\n",
       "  <thead>\n",
       "    <tr style=\"text-align: right;\">\n",
       "      <th></th>\n",
       "      <th>Feature Importances</th>\n",
       "    </tr>\n",
       "  </thead>\n",
       "  <tbody>\n",
       "    <tr>\n",
       "      <th>Subtopic_Set Theory</th>\n",
       "      <td>0.011595</td>\n",
       "    </tr>\n",
       "    <tr>\n",
       "      <th>Subtopic_Definite Integrals</th>\n",
       "      <td>0.013617</td>\n",
       "    </tr>\n",
       "    <tr>\n",
       "      <th>Subtopic_Matrices and Determinants</th>\n",
       "      <td>0.015679</td>\n",
       "    </tr>\n",
       "    <tr>\n",
       "      <th>Topic_Complex Numbers</th>\n",
       "      <td>0.017509</td>\n",
       "    </tr>\n",
       "    <tr>\n",
       "      <th>Subtopic_Linear Optimization</th>\n",
       "      <td>0.019647</td>\n",
       "    </tr>\n",
       "    <tr>\n",
       "      <th>Topic_Real Functions of a single variable</th>\n",
       "      <td>0.019670</td>\n",
       "    </tr>\n",
       "    <tr>\n",
       "      <th>Subtopic_Linear Transformations</th>\n",
       "      <td>0.020110</td>\n",
       "    </tr>\n",
       "    <tr>\n",
       "      <th>Subtopic_Eigenvalues and Eigenvectors</th>\n",
       "      <td>0.020319</td>\n",
       "    </tr>\n",
       "    <tr>\n",
       "      <th>Student Country_Russian Federation</th>\n",
       "      <td>0.024226</td>\n",
       "    </tr>\n",
       "    <tr>\n",
       "      <th>Subtopic_Linear Systems</th>\n",
       "      <td>0.034118</td>\n",
       "    </tr>\n",
       "    <tr>\n",
       "      <th>Topic_Differentiation</th>\n",
       "      <td>0.035428</td>\n",
       "    </tr>\n",
       "    <tr>\n",
       "      <th>Subtopic_Vector Spaces</th>\n",
       "      <td>0.038444</td>\n",
       "    </tr>\n",
       "    <tr>\n",
       "      <th>Subtopic_Elementary Geometry</th>\n",
       "      <td>0.057130</td>\n",
       "    </tr>\n",
       "    <tr>\n",
       "      <th>Student Country_Italy</th>\n",
       "      <td>0.074479</td>\n",
       "    </tr>\n",
       "    <tr>\n",
       "      <th>Student Country_Lithuania</th>\n",
       "      <td>0.075656</td>\n",
       "    </tr>\n",
       "    <tr>\n",
       "      <th>Student Country_Portugal</th>\n",
       "      <td>0.096951</td>\n",
       "    </tr>\n",
       "    <tr>\n",
       "      <th>Question Level_Basic</th>\n",
       "      <td>0.105334</td>\n",
       "    </tr>\n",
       "    <tr>\n",
       "      <th>Student Country_Slovenia</th>\n",
       "      <td>0.234144</td>\n",
       "    </tr>\n",
       "  </tbody>\n",
       "</table>\n",
       "</div>"
      ],
      "text/plain": [
       "                                           Feature Importances\n",
       "Subtopic_Set Theory                                   0.011595\n",
       "Subtopic_Definite Integrals                           0.013617\n",
       "Subtopic_Matrices and Determinants                    0.015679\n",
       "Topic_Complex Numbers                                 0.017509\n",
       "Subtopic_Linear Optimization                          0.019647\n",
       "Topic_Real Functions of a single variable             0.019670\n",
       "Subtopic_Linear Transformations                       0.020110\n",
       "Subtopic_Eigenvalues and Eigenvectors                 0.020319\n",
       "Student Country_Russian Federation                    0.024226\n",
       "Subtopic_Linear Systems                               0.034118\n",
       "Topic_Differentiation                                 0.035428\n",
       "Subtopic_Vector Spaces                                0.038444\n",
       "Subtopic_Elementary Geometry                          0.057130\n",
       "Student Country_Italy                                 0.074479\n",
       "Student Country_Lithuania                             0.075656\n",
       "Student Country_Portugal                              0.096951\n",
       "Question Level_Basic                                  0.105334\n",
       "Student Country_Slovenia                              0.234144"
      ]
     },
     "execution_count": 54,
     "metadata": {},
     "output_type": "execute_result"
    }
   ],
   "source": [
    "Imp_feat_GB[Imp_feat_GB[\"Feature Importances\"] > 0.01].sort_values(\"Feature Importances\")"
   ]
  },
  {
   "cell_type": "code",
   "execution_count": 55,
   "metadata": {},
   "outputs": [
    {
     "data": {
      "text/plain": [
       "<AxesSubplot:>"
      ]
     },
     "execution_count": 55,
     "metadata": {},
     "output_type": "execute_result"
    },
    {
     "data": {
      "image/png": "[encoded data removed]",
      "text/plain": [
       "<Figure size 432x288 with 1 Axes>"
      ]
     },
     "metadata": {
      "needs_background": "light"
     },
     "output_type": "display_data"
    }
   ],
   "source": [
    "Imp_feat_GB[Imp_feat_GB[\"Feature Importances\"] > 0.01].sort_values(\"Feature Importances\").plot(kind=\"bar\")"
   ]
  },
  {
   "cell_type": "code",
   "execution_count": null,
   "metadata": {},
   "outputs": [],
   "source": []
  },
  {
   "cell_type": "code",
   "execution_count": null,
   "metadata": {},
   "outputs": [],
   "source": []
  },
  {
   "cell_type": "code",
   "execution_count": 56,
   "metadata": {},
   "outputs": [],
   "source": [
    "from sklearn.ensemble import AdaBoostClassifier"
   ]
  },
  {
   "cell_type": "code",
   "execution_count": 57,
   "metadata": {},
   "outputs": [],
   "source": [
    "model = AdaBoostClassifier()"
   ]
  },
  {
   "cell_type": "code",
   "execution_count": 58,
   "metadata": {},
   "outputs": [
    {
     "name": "stdout",
     "output_type": "stream",
     "text": [
      "              precision    recall  f1-score   support\n",
      "\n",
      "           0       0.60      0.76      0.67      1544\n",
      "           1       0.59      0.40      0.48      1320\n",
      "\n",
      "    accuracy                           0.59      2864\n",
      "   macro avg       0.59      0.58      0.57      2864\n",
      "weighted avg       0.59      0.59      0.58      2864\n",
      "\n",
      "\n",
      "\n"
     ]
    },
    {
     "data": {
      "image/png": "[encoded data removed]",
      "text/plain": [
       "<Figure size 432x288 with 2 Axes>"
      ]
     },
     "metadata": {
      "needs_background": "light"
     },
     "output_type": "display_data"
    }
   ],
   "source": [
    "run_model(model,X_train,y_train,X_test,y_test)"
   ]
  },
  {
   "cell_type": "code",
   "execution_count": 59,
   "metadata": {},
   "outputs": [
    {
     "data": {
      "text/plain": [
       "array([0.04, 0.06, 0.04, 0.02, 0.02, 0.06, 0.02, 0.04, 0.  , 0.02, 0.02,\n",
       "       0.04, 0.02, 0.  , 0.  , 0.02, 0.02, 0.  , 0.02, 0.02, 0.02, 0.02,\n",
       "       0.02, 0.02, 0.02, 0.02, 0.02, 0.  , 0.04, 0.08, 0.  , 0.02, 0.02,\n",
       "       0.02, 0.02, 0.02, 0.04, 0.  , 0.02, 0.02, 0.02, 0.02, 0.02, 0.02])"
      ]
     },
     "execution_count": 59,
     "metadata": {},
     "output_type": "execute_result"
    }
   ],
   "source": [
    "model.feature_importances_"
   ]
  },
  {
   "cell_type": "code",
   "execution_count": 60,
   "metadata": {},
   "outputs": [],
   "source": [
    "Imp_feat_AB = pd.DataFrame(index=X.columns, data=model.feature_importances_, columns=[\"Feature Importances\"])"
   ]
  },
  {
   "cell_type": "code",
   "execution_count": 61,
   "metadata": {},
   "outputs": [
    {
     "data": {
      "text/html": [
       "<div>\n",
       "<style scoped>\n",
       "    .dataframe tbody tr th:only-of-type {\n",
       "        vertical-align: middle;\n",
       "    }\n",
       "\n",
       "    .dataframe tbody tr th {\n",
       "        vertical-align: top;\n",
       "    }\n",
       "\n",
       "    .dataframe thead th {\n",
       "        text-align: right;\n",
       "    }\n",
       "</style>\n",
       "<table border=\"1\" class=\"dataframe\">\n",
       "  <thead>\n",
       "    <tr style=\"text-align: right;\">\n",
       "      <th></th>\n",
       "      <th>Feature Importances</th>\n",
       "    </tr>\n",
       "  </thead>\n",
       "  <tbody>\n",
       "    <tr>\n",
       "      <th>Subtopic_Complex Numbers</th>\n",
       "      <td>0.02</td>\n",
       "    </tr>\n",
       "    <tr>\n",
       "      <th>Subtopic_Set Theory</th>\n",
       "      <td>0.02</td>\n",
       "    </tr>\n",
       "    <tr>\n",
       "      <th>Subtopic_Probability</th>\n",
       "      <td>0.02</td>\n",
       "    </tr>\n",
       "    <tr>\n",
       "      <th>Subtopic_Partial Differentiation</th>\n",
       "      <td>0.02</td>\n",
       "    </tr>\n",
       "    <tr>\n",
       "      <th>Subtopic_Numerical Methods</th>\n",
       "      <td>0.02</td>\n",
       "    </tr>\n",
       "    <tr>\n",
       "      <th>Subtopic_Linear Transformations</th>\n",
       "      <td>0.02</td>\n",
       "    </tr>\n",
       "    <tr>\n",
       "      <th>Subtopic_Linear Systems</th>\n",
       "      <td>0.02</td>\n",
       "    </tr>\n",
       "    <tr>\n",
       "      <th>Subtopic_Linear Optimization</th>\n",
       "      <td>0.02</td>\n",
       "    </tr>\n",
       "    <tr>\n",
       "      <th>Subtopic_Limits and Continuity</th>\n",
       "      <td>0.02</td>\n",
       "    </tr>\n",
       "    <tr>\n",
       "      <th>Subtopic_Integration Techniques</th>\n",
       "      <td>0.02</td>\n",
       "    </tr>\n",
       "    <tr>\n",
       "      <th>Subtopic_Domain, Image and Graphics</th>\n",
       "      <td>0.02</td>\n",
       "    </tr>\n",
       "    <tr>\n",
       "      <th>Subtopic_Differential Equations</th>\n",
       "      <td>0.02</td>\n",
       "    </tr>\n",
       "    <tr>\n",
       "      <th>Subtopic_Derivatives</th>\n",
       "      <td>0.02</td>\n",
       "    </tr>\n",
       "    <tr>\n",
       "      <th>Subtopic_Definite Integrals</th>\n",
       "      <td>0.02</td>\n",
       "    </tr>\n",
       "    <tr>\n",
       "      <th>Subtopic_Statistics</th>\n",
       "      <td>0.02</td>\n",
       "    </tr>\n",
       "    <tr>\n",
       "      <th>Subtopic_Analytic Geometry</th>\n",
       "      <td>0.02</td>\n",
       "    </tr>\n",
       "    <tr>\n",
       "      <th>Subtopic_Vector Spaces</th>\n",
       "      <td>0.02</td>\n",
       "    </tr>\n",
       "    <tr>\n",
       "      <th>Topic_Set Theory</th>\n",
       "      <td>0.02</td>\n",
       "    </tr>\n",
       "    <tr>\n",
       "      <th>Student Country_Romania</th>\n",
       "      <td>0.02</td>\n",
       "    </tr>\n",
       "    <tr>\n",
       "      <th>Student Country_Russian Federation</th>\n",
       "      <td>0.02</td>\n",
       "    </tr>\n",
       "    <tr>\n",
       "      <th>Student Country_Spain</th>\n",
       "      <td>0.02</td>\n",
       "    </tr>\n",
       "    <tr>\n",
       "      <th>Topic_Statistics</th>\n",
       "      <td>0.02</td>\n",
       "    </tr>\n",
       "    <tr>\n",
       "      <th>Topic_Differentiation</th>\n",
       "      <td>0.02</td>\n",
       "    </tr>\n",
       "    <tr>\n",
       "      <th>Topic_Differential Equations</th>\n",
       "      <td>0.02</td>\n",
       "    </tr>\n",
       "    <tr>\n",
       "      <th>Topic_Graph Theory</th>\n",
       "      <td>0.02</td>\n",
       "    </tr>\n",
       "    <tr>\n",
       "      <th>Topic_Numerical Methods</th>\n",
       "      <td>0.02</td>\n",
       "    </tr>\n",
       "    <tr>\n",
       "      <th>Topic_Optimization</th>\n",
       "      <td>0.02</td>\n",
       "    </tr>\n",
       "    <tr>\n",
       "      <th>Topic_Real Functions of a single variable</th>\n",
       "      <td>0.02</td>\n",
       "    </tr>\n",
       "    <tr>\n",
       "      <th>Topic_Fundamental Mathematics</th>\n",
       "      <td>0.04</td>\n",
       "    </tr>\n",
       "    <tr>\n",
       "      <th>Question Level_Basic</th>\n",
       "      <td>0.04</td>\n",
       "    </tr>\n",
       "    <tr>\n",
       "      <th>Subtopic_Matrices and Determinants</th>\n",
       "      <td>0.04</td>\n",
       "    </tr>\n",
       "    <tr>\n",
       "      <th>Student Country_Portugal</th>\n",
       "      <td>0.04</td>\n",
       "    </tr>\n",
       "    <tr>\n",
       "      <th>Subtopic_Eigenvalues and Eigenvectors</th>\n",
       "      <td>0.04</td>\n",
       "    </tr>\n",
       "    <tr>\n",
       "      <th>Student Country_Italy</th>\n",
       "      <td>0.04</td>\n",
       "    </tr>\n",
       "    <tr>\n",
       "      <th>Student Country_Slovenia</th>\n",
       "      <td>0.06</td>\n",
       "    </tr>\n",
       "    <tr>\n",
       "      <th>Student Country_Lithuania</th>\n",
       "      <td>0.06</td>\n",
       "    </tr>\n",
       "    <tr>\n",
       "      <th>Subtopic_Elementary Geometry</th>\n",
       "      <td>0.08</td>\n",
       "    </tr>\n",
       "  </tbody>\n",
       "</table>\n",
       "</div>"
      ],
      "text/plain": [
       "                                           Feature Importances\n",
       "Subtopic_Complex Numbers                                  0.02\n",
       "Subtopic_Set Theory                                       0.02\n",
       "Subtopic_Probability                                      0.02\n",
       "Subtopic_Partial Differentiation                          0.02\n",
       "Subtopic_Numerical Methods                                0.02\n",
       "Subtopic_Linear Transformations                           0.02\n",
       "Subtopic_Linear Systems                                   0.02\n",
       "Subtopic_Linear Optimization                              0.02\n",
       "Subtopic_Limits and Continuity                            0.02\n",
       "Subtopic_Integration Techniques                           0.02\n",
       "Subtopic_Domain, Image and Graphics                       0.02\n",
       "Subtopic_Differential Equations                           0.02\n",
       "Subtopic_Derivatives                                      0.02\n",
       "Subtopic_Definite Integrals                               0.02\n",
       "Subtopic_Statistics                                       0.02\n",
       "Subtopic_Analytic Geometry                                0.02\n",
       "Subtopic_Vector Spaces                                    0.02\n",
       "Topic_Set Theory                                          0.02\n",
       "Student Country_Romania                                   0.02\n",
       "Student Country_Russian Federation                        0.02\n",
       "Student Country_Spain                                     0.02\n",
       "Topic_Statistics                                          0.02\n",
       "Topic_Differentiation                                     0.02\n",
       "Topic_Differential Equations                              0.02\n",
       "Topic_Graph Theory                                        0.02\n",
       "Topic_Numerical Methods                                   0.02\n",
       "Topic_Optimization                                        0.02\n",
       "Topic_Real Functions of a single variable                 0.02\n",
       "Topic_Fundamental Mathematics                             0.04\n",
       "Question Level_Basic                                      0.04\n",
       "Subtopic_Matrices and Determinants                        0.04\n",
       "Student Country_Portugal                                  0.04\n",
       "Subtopic_Eigenvalues and Eigenvectors                     0.04\n",
       "Student Country_Italy                                     0.04\n",
       "Student Country_Slovenia                                  0.06\n",
       "Student Country_Lithuania                                 0.06\n",
       "Subtopic_Elementary Geometry                              0.08"
      ]
     },
     "execution_count": 61,
     "metadata": {},
     "output_type": "execute_result"
    }
   ],
   "source": [
    "Imp_feat_AB[Imp_feat_AB[\"Feature Importances\"] > 0.01].sort_values(\"Feature Importances\")"
   ]
  },
  {
   "cell_type": "code",
   "execution_count": 62,
   "metadata": {},
   "outputs": [
    {
     "data": {
      "text/plain": [
       "<AxesSubplot:>"
      ]
     },
     "execution_count": 62,
     "metadata": {},
     "output_type": "execute_result"
    },
    {
     "data": {
      "image/png": "[encoded data removed]",
      "text/plain": [
       "<Figure size 432x288 with 1 Axes>"
      ]
     },
     "metadata": {
      "needs_background": "light"
     },
     "output_type": "display_data"
    }
   ],
   "source": [
    "Imp_feat_AB[Imp_feat_AB[\"Feature Importances\"] > 0.02].sort_values(\"Feature Importances\").plot(kind=\"bar\")"
   ]
  },
  {
   "cell_type": "code",
   "execution_count": null,
   "metadata": {},
   "outputs": [],
   "source": []
  }
 ],
 "metadata": {
  "kernelspec": {
   "display_name": "Python 3",
   "language": "python",
   "name": "python3"
  },
  "language_info": {
   "codemirror_mode": {
    "name": "ipython",
    "version": 3
   },
   "file_extension": ".py",
   "mimetype": "text/x-python",
   "name": "python",
   "nbconvert_exporter": "python",
   "pygments_lexer": "ipython3",
   "version": "3.8.5"
  }
 },
 "nbformat": 4,
 "nbformat_minor": 4
}
